### Machine learning process using python

#### load required packages
``` 
import numpy as np  # to convert data into arrays
import pandas as pd # for reading data as dataframes
```
#### load data: free [Rdatasets](https://vincentarelbundock.github.io/Rdatasets/datasets.html)
``` 
data = read_csv('https://vincentarelbundock.github.io/Rdatasets/csv/datasets/iris.csv')
```
